{
 "cells": [
  {
   "cell_type": "code",
   "execution_count": null,
   "id": "conventional-amazon",
   "metadata": {},
   "outputs": [],
   "source": [
    "import noisereduce as nr\n",
    "import IPython\n",
    "from scipy.io import wavfile\n",
    "import scipy.signal\n",
    "import numpy as np\n",
    "import matplotlib.pyplot as plt\n",
    "import librosa\n",
    "%matplotlib inline"
   ]
  },
  {
   "cell_type": "code",
   "execution_count": null,
   "id": "female-roads",
   "metadata": {},
   "outputs": [],
   "source": [
    "wav_loc = \"audio/adrso024.wav\"\n",
    "rate, data = wavfile.read(wav_loc)\n",
    "data = data / 32768"
   ]
  },
  {
   "cell_type": "code",
   "execution_count": null,
   "id": "proved-daily",
   "metadata": {},
   "outputs": [],
   "source": [
    "IPython.display.Audio(data=data, rate=rate)"
   ]
  },
  {
   "cell_type": "code",
   "execution_count": null,
   "id": "posted-contract",
   "metadata": {},
   "outputs": [],
   "source": [
    "fig, ax = plt.subplots(figsize=(20,4))\n",
    "ax.plot(data)\n",
    "len(data)"
   ]
  },
  {
   "cell_type": "code",
   "execution_count": null,
   "id": "gross-crisis",
   "metadata": {},
   "outputs": [],
   "source": [
    "noise1 = data[0:len(data)]\n",
    "IPython.display.Audio(data=noise1, rate=rate)"
   ]
  },
  {
   "cell_type": "code",
   "execution_count": null,
   "id": "south-equation",
   "metadata": {},
   "outputs": [],
   "source": [
    "reduced_noise1 = nr.reduce_noise(audio_clip=data,noise_clip=noise1, verbose=True) "
   ]
  },
  {
   "cell_type": "code",
   "execution_count": null,
   "id": "mediterranean-generic",
   "metadata": {},
   "outputs": [],
   "source": [
    "IPython.display.Audio(data=reduced_noise1, rate=rate)"
   ]
  },
  {
   "cell_type": "code",
   "execution_count": null,
   "id": "miniature-tongue",
   "metadata": {},
   "outputs": [],
   "source": [
    "fig, ax = plt.subplots(figsize=(20,4))\n",
    "ax.plot(reduced_noise1)\n",
    "len(reduced_noise1)"
   ]
  }
 ],
 "metadata": {
  "kernelspec": {
   "display_name": "Python 3",
   "language": "python",
   "name": "python3"
  },
  "language_info": {
   "codemirror_mode": {
    "name": "ipython",
    "version": 3
   },
   "file_extension": ".py",
   "mimetype": "text/x-python",
   "name": "python",
   "nbconvert_exporter": "python",
   "pygments_lexer": "ipython3",
   "version": "3.8.8"
  }
 },
 "nbformat": 4,
 "nbformat_minor": 5
}
